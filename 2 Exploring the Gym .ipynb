{
 "cells": [
  {
   "cell_type": "markdown",
   "metadata": {},
   "source": [
    "# Familiarize with the main functions from OpenAI's Gym\n",
    "\n",
    "The Gyms provides a set of enviroments where it's possible to test and train different Reinforcement Learning algorithms.\n",
    "\n",
    "It's possible to find more information here: https://gym.openai.com/."
   ]
  },
  {
   "cell_type": "code",
   "execution_count": 11,
   "metadata": {
    "ExecuteTime": {
     "end_time": "2019-04-30T17:16:43.807602Z",
     "start_time": "2019-04-30T17:16:43.783300Z"
    }
   },
   "outputs": [
    {
     "name": "stdout",
     "output_type": "stream",
     "text": [
      "Starting the enviroment\n",
      "\n",
      "\u001b[41mS\u001b[0mFFF\n",
      "FHFH\n",
      "FFFH\n",
      "HFFG\n",
      "Enviroment after step 1\n",
      "  (Down)\n",
      "S\u001b[41mF\u001b[0mFF\n",
      "FHFH\n",
      "FFFH\n",
      "HFFG\n"
     ]
    }
   ],
   "source": [
    "%matplotlib inline\n",
    "\n",
    "import gym\n",
    "import matplotlib.pyplot as plt\n",
    "\n",
    "# Choose environment\n",
    "env_names = ['FrozenLake-v0', 'CartPole-v0']\n",
    "\n",
    "env_name = env_names[0]\n",
    "# Create Environment\n",
    "env = gym.make(env_name)\n",
    "\n",
    "# This funciotn can be use to visualize the results directly in the notebook\n",
    "render_in_jp = lambda : plt.imshow(env.render(mode='rgb_array'))\n",
    "\n",
    "env.reset()\n",
    "# render_in_jp()\n",
    "print('Starting the enviroment')\n",
    "env.render()\n",
    "# Taking step 1\n",
    "env.step(1)\n",
    "print('Enviroment after step 1')\n",
    "env.render()\n"
   ]
  },
  {
   "cell_type": "code",
   "execution_count": 13,
   "metadata": {
    "ExecuteTime": {
     "end_time": "2019-04-30T17:17:01.611290Z",
     "start_time": "2019-04-30T17:17:01.606341Z"
    }
   },
   "outputs": [
    {
     "name": "stdout",
     "output_type": "stream",
     "text": [
      "Number of actions 4 for the FrozenLake-v0 enviroment\n",
      "Number of possible states 16 for the FrozenLake-v0 enviroment\n"
     ]
    }
   ],
   "source": [
    "\n",
    "n_actions = env.action_space.n\n",
    "n_states = env.observation_space.n\n",
    "\n",
    "# Actions are left, up, right, down\n",
    "print(f'Number of actions {n_actions} for the {env_name} enviroment')\n",
    "# States are the 16 fields\n",
    "print(f'Number of possible states {n_states} for the {env_name} enviroment')"
   ]
  },
  {
   "cell_type": "code",
   "execution_count": null,
   "metadata": {
    "ExecuteTime": {
     "start_time": "2019-04-30T16:58:12.766Z"
    }
   },
   "outputs": [],
   "source": [
    "env = gym.make(env_name[0])\n",
    "\n",
    "for i_episode in range(20):\n",
    "    observation = env.reset()\n",
    "    for t in range(100):\n",
    "        render_in_jp()\n",
    "        action = 1\n",
    "        # When Calling the step method on the enviroment object\n",
    "        # We return \n",
    "        observation, reward, done, info = env.step(action)\n",
    "        if done:\n",
    "            print(\"Episode finished after {} timesteps\".format(t+1))\n",
    "            break\n",
    "env.close()\n"
   ]
  },
  {
   "cell_type": "code",
   "execution_count": 5,
   "metadata": {
    "ExecuteTime": {
     "end_time": "2019-04-30T17:05:29.961645Z",
     "start_time": "2019-04-30T17:05:29.957059Z"
    }
   },
   "outputs": [],
   "source": [
    "# Note: this is not necessary fro the course.\n",
    "\n",
    "# It's possible to install atari dependencies to use some awesome arcade enviroments\n",
    "!pip install gym[atari]\n",
    "# For Windows users only: There should be a way to install all Atari depedencies, please have a look at:\n",
    "# https://stackoverflow.com/questions/42605769/openai-gym-atari-on-windows\n",
    "\n",
    "# You can find more enviroments at\n",
    "# https://gym.openai.com/envs/#atari"
   ]
  },
  {
   "cell_type": "code",
   "execution_count": 2,
   "metadata": {
    "ExecuteTime": {
     "end_time": "2019-04-30T17:09:32.056564Z",
     "start_time": "2019-04-30T17:09:31.726995Z"
    }
   },
   "outputs": [
    {
     "data": {
      "image/png": "[encoded data removed]",
      "text/plain": [
       "<matplotlib.figure.Figure at 0x10d426d30>"
      ]
     },
     "metadata": {},
     "output_type": "display_data"
    }
   ],
   "source": [
    "env = gym.make('MsPacman-v0')\n",
    "env.reset()\n",
    "for _ in range(10):\n",
    "    render_in_jp()\n",
    "    env.step(env.action_space.sample()) # take a random action\n",
    "env.close()"
   ]
  },
  {
   "cell_type": "code",
   "execution_count": 3,
   "metadata": {
    "ExecuteTime": {
     "end_time": "2019-04-30T17:09:50.380849Z",
     "start_time": "2019-04-30T17:09:50.053485Z"
    }
   },
   "outputs": [
    {
     "data": {
      "image/png": "[encoded data removed]",
      "text/plain": [
       "<matplotlib.figure.Figure at 0x10d10d208>"
      ]
     },
     "metadata": {},
     "output_type": "display_data"
    }
   ],
   "source": [
    "env = gym.make('SpaceInvaders-v0')\n",
    "env.reset()\n",
    "for _ in range(10):\n",
    "    render_in_jp()\n",
    "    env.step(env.action_space.sample()) # take a random action\n",
    "env.close()"
   ]
  },
  {
   "cell_type": "code",
   "execution_count": 4,
   "metadata": {
    "ExecuteTime": {
     "end_time": "2019-04-30T17:12:20.249584Z",
     "start_time": "2019-04-30T17:12:19.914808Z"
    }
   },
   "outputs": [
    {
     "data": {
      "image/png": "[encoded data removed]",
      "text/plain": [
       "<matplotlib.figure.Figure at 0x11ab08048>"
      ]
     },
     "metadata": {},
     "output_type": "display_data"
    }
   ],
   "source": [
    "# This is only using the observation in the RAM of the Atari machine\n",
    "# consisting of 128 bytes\n",
    "env = gym.make('BattleZone-ram-v0')\n",
    "env.reset()\n",
    "for _ in range(10):\n",
    "    render_in_jp()\n",
    "    env.step(env.action_space.sample()) # take a random action\n",
    "env.close()\n"
   ]
  },
  {
   "cell_type": "code",
   "execution_count": null,
   "metadata": {
    "collapsed": true
   },
   "outputs": [],
   "source": []
  }
 ],
 "metadata": {
  "kernelspec": {
   "display_name": "Python 3",
   "language": "python",
   "name": "python3"
  },
  "language_info": {
   "codemirror_mode": {
    "name": "ipython",
    "version": 3
   },
   "file_extension": ".py",
   "mimetype": "text/x-python",
   "name": "python",
   "nbconvert_exporter": "python",
   "pygments_lexer": "ipython3",
   "version": "3.6.5"
  }
 },
 "nbformat": 4,
 "nbformat_minor": 2
}
